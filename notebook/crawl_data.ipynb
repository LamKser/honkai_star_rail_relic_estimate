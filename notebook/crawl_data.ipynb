{
 "cells": [
  {
   "cell_type": "code",
   "execution_count": null,
   "metadata": {},
   "outputs": [],
   "source": [
    "import os\n",
    "\n",
    "current_dir = os.getcwd()\n",
    "parent_dir = os.path.dirname(current_dir)\n",
    "\n",
    "import sys\n",
    "sys.path.insert(0, parent_dir)\n",
    "\n",
    "from src.utils.crawl import scrape_relic_sets, download_images, \\\n",
    "                            scrape_lightcones, scrape_relic_stats,\\\n",
    "                            scrape_characters\n",
    "\n",
    "\n",
    "scrape_relic_sets(url = \"https://www.prydwen.gg/star-rail/guides/relic-sets/\", \n",
    "                  save_path = r'D:\\Code\\honkai_star_rail_relic_estimate\\data\\relic_info.json')\n",
    "\n",
    "# download_images(json_path = r\"D:\\Code\\honkai_star_rail_relic_estimate\\data\\relic_info.json\", \n",
    "#                 save_dir  = r\"D:\\Code\\honkai_star_rail_relic_estimate\\data\\images\")\n",
    "\n",
    "# scrape_relic_stats(url = \"https://honkai-star-rail.fandom.com/wiki/Relic/Stats\",\n",
    "#                    save_path = r'D:\\Code\\honkai_star_rail_relic_estimate\\data\\relic_status.json')\n",
    "\n",
    "# scrape_lightcones(\"https://www.prydwen.gg/star-rail/light-cones/\", \n",
    "#                   \"https://the-astral-express-archive.tumblr.com/lcgallery\", \n",
    "#                   r\"D:\\Code\\honkai_star_rail_relic_estimate\\data\\lightcone_info.json\")\n",
    "\n",
    "# download_images(json_path = r\"D:\\Code\\honkai_star_rail_relic_estimate\\data\\lightcone_info.json\", \n",
    "#                 save_dir  = r\"D:\\Code\\honkai_star_rail_relic_estimate\\data\\images\\images_lightcones\")\n",
    "\n",
    "# scrape_characters(\"https://www.prydwen.gg/star-rail/characters\",\n",
    "#                   r'D:\\Code\\honkai_star_rail_relic_estimate\\data\\character.json')"
   ]
  },
  {
   "cell_type": "code",
   "execution_count": null,
   "metadata": {},
   "outputs": [],
   "source": []
  },
  {
   "cell_type": "code",
   "execution_count": null,
   "metadata": {},
   "outputs": [],
   "source": []
  }
 ],
 "metadata": {
  "kernelspec": {
   "display_name": "llm",
   "language": "python",
   "name": "python3"
  },
  "language_info": {
   "codemirror_mode": {
    "name": "ipython",
    "version": 3
   },
   "file_extension": ".py",
   "mimetype": "text/x-python",
   "name": "python",
   "nbconvert_exporter": "python",
   "pygments_lexer": "ipython3",
   "version": "3.9.16"
  }
 },
 "nbformat": 4,
 "nbformat_minor": 2
}
