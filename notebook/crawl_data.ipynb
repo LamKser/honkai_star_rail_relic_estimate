{
 "cells": [
  {
   "cell_type": "code",
   "execution_count": 4,
   "metadata": {},
   "outputs": [
    {
     "name": "stdout",
     "output_type": "stream",
     "text": [
      "68. Downloaded: it’s_showtime (Delay: 2.25 seconds)\n",
      "69. Downloaded: landau's_choice (Delay: 2.59 seconds)\n",
      "70. Downloaded: make_the_world_clamor (Delay: 1.48 seconds)\n",
      "71. Downloaded: memories_of_the_past (Delay: 2.79 seconds)\n",
      "72. Downloaded: ninja_record_-_sound_hunt (Delay: 1.58 seconds)\n",
      "73. Downloaded: nowhere_to_run (Delay: 1.93 seconds)\n",
      "74. Downloaded: only_silence_remains (Delay: 2.19 seconds)\n",
      "75. Downloaded: past_and_future (Delay: 1.94 seconds)\n",
      "76. Downloaded: perfect_timing (Delay: 2.56 seconds)\n",
      "77. Downloaded: planetary_rendezvous (Delay: 2.04 seconds)\n",
      "78. Downloaded: poised_to_bloom (Delay: 1.57 seconds)\n",
      "79. Downloaded: post-op_conversation (Delay: 1.79 seconds)\n",
      "80. Downloaded: quid_pro_quo (Delay: 1.07 seconds)\n",
      "81. Downloaded: resolution_shines_as_pearls_of_sweat (Delay: 1.95 seconds)\n",
      "82. Downloaded: return_to_darkness (Delay: 2.91 seconds)\n",
      "83. Downloaded: river_flows_in_spring (Delay: 2.44 seconds)\n",
      "84. Downloaded: shadowed_by_night (Delay: 2.49 seconds)\n",
      "85. Downloaded: shared_feeling (Delay: 1.22 seconds)\n",
      "86. Downloaded: subscribe_for_more! (Delay: 2.29 seconds)\n",
      "87. Downloaded: sweat_now,_cry_less (Delay: 1.05 seconds)\n",
      "88. Downloaded: swordplay (Delay: 2.63 seconds)\n",
      "89. Downloaded: the_birth_of_the_self (Delay: 2.20 seconds)\n",
      "90. Downloaded: the_day_the_cosmos_fell (Delay: 2.83 seconds)\n",
      "91. Downloaded: the_moles_welcome_you (Delay: 1.39 seconds)\n",
      "92. Downloaded: the_seriousness_of_breakfast (Delay: 1.20 seconds)\n",
      "93. Downloaded: this_is_me! (Delay: 2.05 seconds)\n",
      "94. Downloaded: today_is_another_peaceful_day (Delay: 2.34 seconds)\n",
      "95. Downloaded: trend_of_the_universal_market (Delay: 2.46 seconds)\n",
      "96. Downloaded: under_the_blue_sky (Delay: 1.95 seconds)\n",
      "97. Downloaded: victory_in_a_blink (Delay: 1.05 seconds)\n",
      "98. Downloaded: warmth_shortens_cold_nights (Delay: 2.59 seconds)\n",
      "99. Downloaded: we_are_wildfire (Delay: 1.50 seconds)\n",
      "100. Downloaded: we_will_meet_again (Delay: 1.30 seconds)\n",
      "101. Downloaded: what_is_real (Delay: 2.48 seconds)\n",
      "102. Downloaded: woof!_walk_time! (Delay: 1.54 seconds)\n",
      "103. Downloaded: adversarial (Delay: 2.93 seconds)\n",
      "104. Downloaded: amber (Delay: 2.15 seconds)\n",
      "105. Downloaded: arrows (Delay: 1.47 seconds)\n",
      "106. Downloaded: chorus (Delay: 1.02 seconds)\n",
      "107. Downloaded: collapsing_sky (Delay: 2.28 seconds)\n",
      "108. Downloaded: cornucopia (Delay: 1.27 seconds)\n",
      "109. Downloaded: darting_arrow (Delay: 2.64 seconds)\n",
      "110. Downloaded: data_bank (Delay: 2.09 seconds)\n",
      "111. Downloaded: defense (Delay: 1.75 seconds)\n",
      "112. Downloaded: fine_fruit (Delay: 2.89 seconds)\n",
      "113. Downloaded: hidden_shadow (Delay: 2.06 seconds)\n",
      "114. Downloaded: loop (Delay: 2.08 seconds)\n",
      "115. Downloaded: mediation (Delay: 2.58 seconds)\n",
      "116. Downloaded: meshing_cogs (Delay: 1.90 seconds)\n",
      "117. Downloaded: multiplication (Delay: 1.46 seconds)\n",
      "118. Downloaded: mutual_demise (Delay: 2.17 seconds)\n",
      "119. Downloaded: passkey (Delay: 1.26 seconds)\n",
      "120. Downloaded: pioneering (Delay: 2.70 seconds)\n",
      "121. Downloaded: reminiscence (Delay: 1.25 seconds)\n",
      "122. Downloaded: sagacity (Delay: 2.55 seconds)\n",
      "123. Downloaded: shadowburn (Delay: 1.95 seconds)\n",
      "124. Downloaded: shattered_home (Delay: 2.00 seconds)\n",
      "125. Downloaded: void (Delay: 1.03 seconds)\n"
     ]
    }
   ],
   "source": [
    "import os\n",
    "\n",
    "current_dir = os.getcwd()\n",
    "parent_dir = os.path.dirname(current_dir)\n",
    "\n",
    "import sys\n",
    "sys.path.insert(0, parent_dir)\n",
    "\n",
    "from src.utils.crawl import scrape_relic_sets, download_images, \\\n",
    "                            scrape_lightcone_info, scrape_relic_stats,\\\n",
    "                            scrape_light_cones\n",
    "\n",
    "\n",
    "# scrape_relic_sets(url = \"https://game8.co/games/Honkai-Star-Rail/archives/406885\", \n",
    "#                   save_path = r'D:\\Code\\honkai_star_rail_relic_estimate\\data\\relic_info.json')\n",
    "\n",
    "# download_images(json_path = r\"D:\\Code\\honkai_star_rail_relic_estimate\\data\\relic_info.json\", \n",
    "#                 save_dir  = r\"D:\\Code\\honkai_star_rail_relic_estimate\\data\\images\")\n",
    "\n",
    "# scrape_relic_stats(url = \"https://honkai-star-rail.fandom.com/wiki/Relic/Stats\",\n",
    "#                    save_path = r'D:\\Code\\honkai_star_rail_relic_estimate\\data\\relic_status.json')\n",
    "\n",
    "# scrape_lightcone_info(\"https://game8.co/games/Honkai-Star-Rail/archives/492441\", \"Time Woven Into Gold Effects and Overview\")\n",
    "\n",
    "# scrape_light_cones(url = \"https://game8.co/games/Honkai-Star-Rail/archives/406599\",\n",
    "#                    save_path = r'D:\\Code\\honkai_star_rail_relic_estimate\\data\\lightcone_info.json')\n",
    "\n",
    "download_images(json_path = r\"D:\\Code\\honkai_star_rail_relic_estimate\\data\\lightcone_info.json\", \n",
    "                save_dir  = r\"D:\\Code\\honkai_star_rail_relic_estimate\\data\\images\\images_lightcones\")"
   ]
  },
  {
   "cell_type": "code",
   "execution_count": null,
   "metadata": {},
   "outputs": [
    {
     "name": "stderr",
     "output_type": "stream",
     "text": [
      "C:\\Users\\LamDH\\AppData\\Local\\Temp\\ipykernel_34996\\683606627.py:15: RuntimeWarning: coroutine 'fetch_light_cones' was never awaited\n",
      "  fetch_light_cones(url, save_path)\n",
      "RuntimeWarning: Enable tracemalloc to get the object allocation traceback\n"
     ]
    }
   ],
   "source": []
  }
 ],
 "metadata": {
  "kernelspec": {
   "display_name": "llm",
   "language": "python",
   "name": "python3"
  },
  "language_info": {
   "codemirror_mode": {
    "name": "ipython",
    "version": 3
   },
   "file_extension": ".py",
   "mimetype": "text/x-python",
   "name": "python",
   "nbconvert_exporter": "python",
   "pygments_lexer": "ipython3",
   "version": "3.9.16"
  }
 },
 "nbformat": 4,
 "nbformat_minor": 2
}
