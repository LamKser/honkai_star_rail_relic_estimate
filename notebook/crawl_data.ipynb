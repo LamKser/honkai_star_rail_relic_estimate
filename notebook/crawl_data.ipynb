{
 "cells": [
  {
   "cell_type": "code",
   "execution_count": null,
   "metadata": {},
   "outputs": [],
   "source": [
    "import os\n",
    "\n",
    "current_dir = os.getcwd()\n",
    "parent_dir = os.path.dirname(current_dir)\n",
    "\n",
    "import sys\n",
    "sys.path.insert(0, parent_dir)\n",
    "\n",
    "from src.utils.crawl import scrape_relic_sets, download_images, scrape_relic_stats\n",
    "\n",
    "\n",
    "scrape_relic_sets(url = \"https://game8.co/games/Honkai-Star-Rail/archives/406885\", \n",
    "                  save_path = r'D:\\Code\\honkai_star_rail_relic_estimate\\data\\relic_info.json')\n",
    "\n",
    "download_images(json_path = r\"D:\\Code\\honkai_star_rail_relic_estimate\\data\\relic_info.json\", \n",
    "                save_dir  = r\"D:\\Code\\honkai_star_rail_relic_estimate\\data\\images\")\n",
    "\n",
    "scrape_relic_stats(url = \"https://honkai-star-rail.fandom.com/wiki/Relic/Stats\",\n",
    "                   save_path = r\"D:\\Code\\honkai_star_rail_relic_estimate\\data\\relic_status.json\")"
   ]
  },
  {
   "cell_type": "code",
   "execution_count": null,
   "metadata": {},
   "outputs": [
    {
     "data": {
      "text/plain": [
       "{'name': 'An Instant Before A Gaze',\n",
       " 'image': 'https://img.game8.co/3790078/6eea8e6431bbc01a0315a2f94808c75d.png/show',\n",
       " 'rate': 5,\n",
       " 'type': 'The Erudition',\n",
       " 'ability': \"Increases the wearer's CRIT DMG by 36%/42%/48%/54%/60%. When the wearer uses Ultimate, increases the wearer's Ultimate DMG based on their Max Energy. Each point of Energy increases the Ultimate DMG by 0.36%/0.42%/0.48%/0.54%/0.60%, up to 180 points of Energy.\"}"
      ]
     },
     "execution_count": 99,
     "metadata": {},
     "output_type": "execute_result"
    }
   ],
   "source": [
    "# ... existing code ...\n",
    "\n",
    "\n",
    "\n",
    "\n",
    "scrape_lightcone_info(url=\"https://game8.co/games/Honkai-Star-Rail/archives/431868\", \n",
    "                save_path=\"a.json\")"
   ]
  }
 ],
 "metadata": {
  "kernelspec": {
   "display_name": "llm",
   "language": "python",
   "name": "python3"
  },
  "language_info": {
   "codemirror_mode": {
    "name": "ipython",
    "version": 3
   },
   "file_extension": ".py",
   "mimetype": "text/x-python",
   "name": "python",
   "nbconvert_exporter": "python",
   "pygments_lexer": "ipython3",
   "version": "3.9.16"
  }
 },
 "nbformat": 4,
 "nbformat_minor": 2
}
