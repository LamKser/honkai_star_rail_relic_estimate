{
 "cells": [
  {
   "cell_type": "code",
   "execution_count": null,
   "id": "08c85302",
   "metadata": {},
   "outputs": [],
   "source": [
    "import os\n",
    "\n",
    "current_dir = os.getcwd()\n",
    "parent_dir = os.path.dirname(current_dir)\n",
    "\n",
    "import sys\n",
    "sys.path.insert(0, parent_dir)\n",
    "\n",
    "from src.utils.image import create_darker_to_lighter_gradient\n",
    "\n",
    "# gradient_img = create_darker_to_lighter_gradient(100, 100, \"blue\")\n",
    "# gradient_img.save(r\"D:\\Code\\honkai_star_rail_relic_estimate\\data\\images\\gradient\\blue_gradient.png\")\n",
    "gradient_img = create_darker_to_lighter_gradient(374, 512, \"yellow\")\n",
    "gradient_img.save(r\"D:\\Code\\honkai_star_rail_relic_estimate\\data\\images\\gradient\\character_yellow_gradient.png\")\n",
    "gradient_img = create_darker_to_lighter_gradient(374, 512, \"purple\")\n",
    "gradient_img.save(r\"D:\\Code\\honkai_star_rail_relic_estimate\\data\\images\\gradient\\character_purple_gradient.png\")\n"
   ]
  },
  {
   "cell_type": "code",
   "execution_count": null,
   "id": "f23aec0e",
   "metadata": {},
   "outputs": [],
   "source": [
    "import os\n",
    "\n",
    "current_dir = os.getcwd()\n",
    "parent_dir = os.path.dirname(current_dir)\n",
    "\n",
    "import sys\n",
    "sys.path.insert(0, parent_dir)\n",
    "\n",
    "from src.utils.image import overlay_character_background\n",
    "\n",
    "overlay_character_background(r\"D:\\Code\\honkai_star_rail_relic_estimate\\data\\character.json\",\n",
    "                             r\"D:\\Code\\honkai_star_rail_relic_estimate\\data\\images\\images_characters\",\n",
    "                             r\"D:\\Code\\honkai_star_rail_relic_estimate\\data\\images\\gradient\\character_purple_gradient.png\",\n",
    "                             r\"D:\\Code\\honkai_star_rail_relic_estimate\\data\\images\\gradient\\character_yellow_gradient.png\",\n",
    "                             r\"D:\\Code\\honkai_star_rail_relic_estimate\\data\\images\\background_character\")"
   ]
  },
  {
   "cell_type": "code",
   "execution_count": null,
   "id": "596b356b",
   "metadata": {},
   "outputs": [],
   "source": [
    "import os\n",
    "\n",
    "current_dir = os.getcwd()\n",
    "parent_dir = os.path.dirname(current_dir)\n",
    "\n",
    "import sys\n",
    "sys.path.insert(0, parent_dir)\n",
    "\n",
    "from src.utils.image import overlay_relic_background\n",
    "\n",
    "overlay_relic_background(r\"D:\\Code\\honkai_star_rail_relic_estimate\\data\\relic_info.json\",\n",
    "                             r\"D:\\Code\\honkai_star_rail_relic_estimate\\data\\images\\images_relics\",\n",
    "                             r\"D:\\Code\\honkai_star_rail_relic_estimate\\data\\images\\gradient\\yellow_gradient.png\",\n",
    "                             r\"D:\\Code\\honkai_star_rail_relic_estimate\\data\\images\\background_relic\")"
   ]
  }
 ],
 "metadata": {
  "kernelspec": {
   "display_name": "llm",
   "language": "python",
   "name": "python3"
  },
  "language_info": {
   "codemirror_mode": {
    "name": "ipython",
    "version": 3
   },
   "file_extension": ".py",
   "mimetype": "text/x-python",
   "name": "python",
   "nbconvert_exporter": "python",
   "pygments_lexer": "ipython3",
   "version": "3.9.16"
  }
 },
 "nbformat": 4,
 "nbformat_minor": 5
}
