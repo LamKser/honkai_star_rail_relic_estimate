{
 "cells": [
  {
   "cell_type": "code",
   "execution_count": null,
   "id": "11e4b25a",
   "metadata": {},
   "outputs": [],
   "source": [
    "import os, sys\n",
    "\n",
    "current_dir = os.getcwd()\n",
    "parent_dir = os.path.dirname(current_dir)\n",
    "sys.path.insert(0, parent_dir)\n",
    "\n",
    "from dotenv import load_dotenv\n",
    "\n",
    "from src import extract\n",
    "from src.utils.convert import convert_extract_info_2_html\n",
    "from src.utils.file import save_extract_info_2_html\n",
    "from configs.prompt.prompt import EXTRACT_SUB_STAT_FROM_LIGHTCONE\n",
    "\n",
    "\n",
    "load_dotenv()\n",
    "api_key = os.getenv(\"GOOGLE_API_KEY\")\n",
    "url = \"https://generativelanguage.googleapis.com/v1beta/openai/\"\n",
    "model = \"gemini-2.0-flash\"\n",
    "\n",
    "lightcone_path = r\"D:\\Code\\honkai_star_rail_relic_estimate\\data\\lightcone_info.json\"\n",
    "html_path = r\"D:\\Code\\honkai_star_rail_relic_estimate\\data\\lightcone_comparasion.html\"\n",
    "\n",
    "extracted = extract.extract_lightcone(api_key, url, model,\n",
    "                    EXTRACT_SUB_STAT_FROM_LIGHTCONE,\n",
    "                    lightcone_path)\n",
    "html_content = convert_extract_info_2_html(extracted)\n",
    "save_extract_info_2_html(html_content, html_path)\n"
   ]
  },
  {
   "cell_type": "code",
   "execution_count": null,
   "id": "d1ed60d8",
   "metadata": {},
   "outputs": [],
   "source": []
  },
  {
   "cell_type": "code",
   "execution_count": null,
   "id": "ec2c5fba",
   "metadata": {},
   "outputs": [],
   "source": []
  }
 ],
 "metadata": {
  "kernelspec": {
   "display_name": "llm",
   "language": "python",
   "name": "python3"
  },
  "language_info": {
   "codemirror_mode": {
    "name": "ipython",
    "version": 3
   },
   "file_extension": ".py",
   "mimetype": "text/x-python",
   "name": "python",
   "nbconvert_exporter": "python",
   "pygments_lexer": "ipython3",
   "version": "3.9.16"
  }
 },
 "nbformat": 4,
 "nbformat_minor": 5
}
